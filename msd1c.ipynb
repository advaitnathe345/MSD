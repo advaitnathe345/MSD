{
 "cells": [
  {
   "cell_type": "code",
   "execution_count": 4,
   "id": "93a0ce4f-f873-40a8-adc4-c4c6c3c888b1",
   "metadata": {},
   "outputs": [],
   "source": [
    "import numpy as np"
   ]
  },
  {
   "cell_type": "code",
   "execution_count": 5,
   "id": "95cd14e2-944e-4ed2-92cd-b41de641dcc8",
   "metadata": {},
   "outputs": [
    {
     "name": "stdout",
     "output_type": "stream",
     "text": [
      "[10 11 12 13 14 15 16 17 18 19 20 21 22 23 24 25 26 27 28 29 30 31 32 33\n",
      " 34 35 36 37 38 39 40 41 42 43 44 45 46 47 48 49]\n"
     ]
    }
   ],
   "source": [
    "array_1d = np.arange(10, 50)\n",
    "print(array_1d)"
   ]
  },
  {
   "cell_type": "code",
   "execution_count": 6,
   "id": "e8feabcf-1cea-4052-938b-7784cbd7e027",
   "metadata": {},
   "outputs": [
    {
     "name": "stdout",
     "output_type": "stream",
     "text": [
      "[[10 11 12 13 14]\n",
      " [15 16 17 18 19]\n",
      " [20 21 22 23 24]]\n"
     ]
    }
   ],
   "source": [
    "array_reshaped = array_1d[:15].reshape(3, 5)\n",
    "print(array_reshaped)"
   ]
  },
  {
   "cell_type": "code",
   "execution_count": 7,
   "id": "3faeff8d-40ba-4451-8549-e8ac7a3705e0",
   "metadata": {},
   "outputs": [
    {
     "name": "stdout",
     "output_type": "stream",
     "text": [
      "[12 15 18 21 24 27 30 33 36 39 42 45 48]\n"
     ]
    }
   ],
   "source": [
    "divisible_by_3 = array_1d[array_1d % 3 == 0]\n",
    "print(divisible_by_3)"
   ]
  },
  {
   "cell_type": "code",
   "execution_count": 11,
   "id": "85fa23a6-20f1-4ad1-9a57-bbce8270821b",
   "metadata": {},
   "outputs": [
    {
     "name": "stdout",
     "output_type": "stream",
     "text": [
      "[[8 4 7]\n",
      " [9 8 3]\n",
      " [7 9 9]]\n",
      "[[2 3 4]\n",
      " [9 5 2]\n",
      " [7 9 7]]\n"
     ]
    }
   ],
   "source": [
    "array_random1 = np.random.randint(1, 10, size=(3, 3))\n",
    "array_random2 = np.random.randint(1, 10, size=(3, 3))\n",
    "\n",
    "print(array_random1)\n",
    "print(array_random2)"
   ]
  },
  {
   "cell_type": "code",
   "execution_count": 13,
   "id": "74f5225a-c5a3-4e82-9818-c73f340af6cc",
   "metadata": {},
   "outputs": [
    {
     "name": "stdout",
     "output_type": "stream",
     "text": [
      "[[10  7 11]\n",
      " [18 13  5]\n",
      " [14 18 16]]\n",
      "[[6 1 3]\n",
      " [0 3 1]\n",
      " [0 0 2]]\n",
      "[[16 12 28]\n",
      " [81 40  6]\n",
      " [49 81 63]]\n",
      "[[4.         1.33333333 1.75      ]\n",
      " [1.         1.6        1.5       ]\n",
      " [1.         1.         1.28571429]]\n"
     ]
    }
   ],
   "source": [
    "add_result = array_random1 + array_random2\n",
    "sub_result = array_random1 - array_random2\n",
    "mul_result = array_random1 * array_random2\n",
    "div_result = array_random1 / array_random2\n",
    "\n",
    "print(add_result)\n",
    "print(sub_result)\n",
    "print(mul_result)\n",
    "print(div_result)"
   ]
  },
  {
   "cell_type": "code",
   "execution_count": null,
   "id": "637cd64b-59c6-4c81-9651-9902f0c83781",
   "metadata": {},
   "outputs": [],
   "source": []
  }
 ],
 "metadata": {
  "kernelspec": {
   "display_name": "Python 3 (ipykernel)",
   "language": "python",
   "name": "python3"
  },
  "language_info": {
   "codemirror_mode": {
    "name": "ipython",
    "version": 3
   },
   "file_extension": ".py",
   "mimetype": "text/x-python",
   "name": "python",
   "nbconvert_exporter": "python",
   "pygments_lexer": "ipython3",
   "version": "3.12.4"
  }
 },
 "nbformat": 4,
 "nbformat_minor": 5
}
