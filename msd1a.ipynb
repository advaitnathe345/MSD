{
 "cells": [
  {
   "cell_type": "code",
   "execution_count": null,
   "id": "0b3c3748-c54c-4615-b85d-e0480b47be8a",
   "metadata": {},
   "outputs": [],
   "source": []
  },
  {
   "cell_type": "code",
   "execution_count": null,
   "id": "a26db957-59e8-4704-91d5-936af9f69e61",
   "metadata": {},
   "outputs": [],
   "source": [
    "#List"
   ]
  },
  {
   "cell_type": "code",
   "execution_count": 36,
   "id": "e38f91a5-f458-4281-a3b0-aae7dde4f29e",
   "metadata": {},
   "outputs": [
    {
     "name": "stdout",
     "output_type": "stream",
     "text": [
      "[1, 2, 3, 4, 5]\n",
      "['msdhoni', 'advait', 'srk']\n",
      "[3, 'advait', 3.14]\n"
     ]
    }
   ],
   "source": [
    "a = [1, 2, 3, 4, 5]\n",
    "b = ['msdhoni', 'advait', 'srk']\n",
    "c = [3, 'advait', 3.14]\n",
    "\n",
    "print(a)\n",
    "print(b)\n",
    "print(c)"
   ]
  },
  {
   "cell_type": "code",
   "execution_count": 37,
   "id": "41fb57fb-d20b-45d6-80ee-231325e7070d",
   "metadata": {},
   "outputs": [
    {
     "name": "stdout",
     "output_type": "stream",
     "text": [
      "[1, 2, 3, 'advait']\n"
     ]
    }
   ],
   "source": [
    "a = list((1, 2, 3, 'advait'))  \n",
    "\n",
    "print(a)"
   ]
  },
  {
   "cell_type": "code",
   "execution_count": 38,
   "id": "a4c7c579-47e2-4c40-84a5-7f5278f4d55c",
   "metadata": {},
   "outputs": [
    {
     "name": "stdout",
     "output_type": "stream",
     "text": [
      "[2, 2, 2, 2, 2]\n",
      "[3, 3, 3, 3, 3, 3, 3]\n"
     ]
    }
   ],
   "source": [
    "a = [2] * 5\n",
    "b = [3] * 7\n",
    "\n",
    "print(a)\n",
    "print(b)"
   ]
  },
  {
   "cell_type": "code",
   "execution_count": 40,
   "id": "1106eb5a-5988-4493-aed7-e654a05066d1",
   "metadata": {},
   "outputs": [
    {
     "name": "stdout",
     "output_type": "stream",
     "text": [
      "1\n",
      "5\n"
     ]
    }
   ],
   "source": [
    "a = [1, 2, 3, 4, 5]\n",
    "\n",
    "print(a[0])\n",
    "print(a[-1])"
   ]
  },
  {
   "cell_type": "code",
   "execution_count": 42,
   "id": "94caa62d-ed19-40d1-a058-8287a3f54565",
   "metadata": {},
   "outputs": [
    {
     "name": "stdout",
     "output_type": "stream",
     "text": [
      "[7]\n",
      "[2, 7]\n",
      "[2, 7, 3, 4, 5]\n"
     ]
    }
   ],
   "source": [
    "a = []\n",
    "\n",
    "a.append(7)  \n",
    "print(a)  \n",
    "\n",
    "a.insert(0, 2)\n",
    "print(a) \n",
    "\n",
    "a.extend([3, 4, 5])  \n",
    "print(a)"
   ]
  },
  {
   "cell_type": "code",
   "execution_count": 50,
   "id": "36e83dc7-cc95-4c13-863d-03f1d680cb8d",
   "metadata": {},
   "outputs": [
    {
     "name": "stdout",
     "output_type": "stream",
     "text": [
      "[1, 7, 3, 4, 5]\n"
     ]
    }
   ],
   "source": [
    "a = [1, 2, 3, 4, 5]\n",
    "\n",
    "a[1] = 7 \n",
    "print(a)"
   ]
  },
  {
   "cell_type": "code",
   "execution_count": 51,
   "id": "5bfe9e72-ad7d-4693-ad59-44782a080dd0",
   "metadata": {},
   "outputs": [
    {
     "name": "stdout",
     "output_type": "stream",
     "text": [
      "[1, 2, 4, 5]\n"
     ]
    }
   ],
   "source": [
    "a = [1, 2, 3, 4, 5]\n",
    "\n",
    "a.remove(3)\n",
    "print(a)"
   ]
  },
  {
   "cell_type": "code",
   "execution_count": null,
   "id": "4e15435f-6d12-4335-a96f-fc09e6f72ac9",
   "metadata": {},
   "outputs": [],
   "source": [
    "#Tupple"
   ]
  },
  {
   "cell_type": "code",
   "execution_count": 45,
   "id": "3408ddd9-bf68-449e-870a-fb0fcd462422",
   "metadata": {},
   "outputs": [
    {
     "name": "stdout",
     "output_type": "stream",
     "text": [
      "(1, 2, 3)\n",
      "<class 'tuple'>\n"
     ]
    }
   ],
   "source": [
    "t = (1, 2, 3) \n",
    "\n",
    "print(t)\n",
    "print(type(t))"
   ]
  },
  {
   "cell_type": "code",
   "execution_count": 46,
   "id": "cb051b42-7e01-4174-b3f6-5baf770f1170",
   "metadata": {},
   "outputs": [
    {
     "name": "stdout",
     "output_type": "stream",
     "text": [
      "2\n",
      "5\n"
     ]
    }
   ],
   "source": [
    "t = (1, 2, 3, 4, 5)\n",
    "\n",
    "print(t[1])\n",
    "print(t[4])"
   ]
  },
  {
   "cell_type": "code",
   "execution_count": 49,
   "id": "66146ad1-fc7c-465f-9ff6-699237f47513",
   "metadata": {},
   "outputs": [
    {
     "name": "stdout",
     "output_type": "stream",
     "text": [
      "3\n",
      "2\n",
      "1\n"
     ]
    }
   ],
   "source": [
    "t = (1, 2, 3)\n",
    "\n",
    "print(t[-1])\n",
    "print(t[-2])\n",
    "print(t[-3])"
   ]
  },
  {
   "cell_type": "code",
   "execution_count": 52,
   "id": "d094017d-80a3-47da-b0f3-8fa13b5c6b79",
   "metadata": {},
   "outputs": [
    {
     "name": "stdout",
     "output_type": "stream",
     "text": [
      "(1, 2, 3, 'advait', 'nathe')\n"
     ]
    }
   ],
   "source": [
    "t1 = (1, 2, 3)\n",
    "t2 = ('advait', 'nathe')\n",
    "\n",
    "print(t1 + t2)"
   ]
  },
  {
   "cell_type": "code",
   "execution_count": 53,
   "id": "38492f48-0cc9-4200-a91f-faa80596e709",
   "metadata": {},
   "outputs": [
    {
     "name": "stdout",
     "output_type": "stream",
     "text": [
      "((1, 2, 3), ('advait', 'nathe'))\n"
     ]
    }
   ],
   "source": [
    "t1 = (1, 2, 3)\n",
    "t2 = ('advait', 'nathe')\n",
    "\n",
    "t3 = (t1, t2)\n",
    "print(t3)"
   ]
  },
  {
   "cell_type": "code",
   "execution_count": 57,
   "id": "0703ed90-a5f9-4583-b6d4-2849ff88a461",
   "metadata": {},
   "outputs": [
    {
     "name": "stdout",
     "output_type": "stream",
     "text": [
      "advaitadvaitadvait\n"
     ]
    }
   ],
   "source": [
    "t = ('advait')*3\n",
    "print(t)"
   ]
  },
  {
   "cell_type": "code",
   "execution_count": 58,
   "id": "b8d565bf-2f9d-4659-aba3-53285429fdce",
   "metadata": {},
   "outputs": [
    {
     "name": "stdout",
     "output_type": "stream",
     "text": [
      "2\n"
     ]
    }
   ],
   "source": [
    "t = ('advait', 'nathe')\n",
    "print(len(t))"
   ]
  },
  {
   "cell_type": "code",
   "execution_count": null,
   "id": "3471914a-8389-446e-bc78-3f1929d3aa61",
   "metadata": {},
   "outputs": [],
   "source": [
    "#Dictionaries"
   ]
  },
  {
   "cell_type": "code",
   "execution_count": 59,
   "id": "8eb9cefa-2f87-47ed-b4c7-53116857e7c8",
   "metadata": {},
   "outputs": [
    {
     "name": "stdout",
     "output_type": "stream",
     "text": [
      "{1: 'advait', 2: 'mahesh', 3: 'nathe'}\n"
     ]
    }
   ],
   "source": [
    "d = {1: 'advait', 2: 'mahesh', 3: 'nathe'}\n",
    "print(d)"
   ]
  },
  {
   "cell_type": "code",
   "execution_count": 63,
   "id": "901ec678-49d1-4475-9a6a-0c0df136305f",
   "metadata": {},
   "outputs": [
    {
     "name": "stdout",
     "output_type": "stream",
     "text": [
      "{}\n",
      "{0: 'advait', 2: 'nathe', 3: 3}\n"
     ]
    }
   ],
   "source": [
    "d = {}\n",
    "print(d)\n",
    "\n",
    "d[0] = 'advait'\n",
    "d[2] = 'nathe'\n",
    "d[3] = 3\n",
    "print(d)"
   ]
  },
  {
   "cell_type": "code",
   "execution_count": 64,
   "id": "dc907883-bb0d-4f26-91bd-9776662a4e02",
   "metadata": {},
   "outputs": [
    {
     "name": "stdout",
     "output_type": "stream",
     "text": [
      "advait\n",
      "ORANGE\n"
     ]
    }
   ],
   "source": [
    "d = {1: 'ORANGE', 'name': 'advait', 3: 'GREEN'}\n",
    "\n",
    "print(d['name'])\n",
    "print(d[1])"
   ]
  },
  {
   "cell_type": "code",
   "execution_count": 65,
   "id": "64c9974a-ee7e-4cb1-87e7-987f722125f7",
   "metadata": {},
   "outputs": [
    {
     "name": "stdout",
     "output_type": "stream",
     "text": [
      "{1: 'ORANGE'}\n",
      "ORANGE\n",
      "Advait\n"
     ]
    }
   ],
   "source": [
    "d = {'Dict1': {1: 'ORANGE'}, 'Dict2': {'Name': 'Advait'}}\n",
    "\n",
    "print(d['Dict1'])\n",
    "print(d['Dict1'][1])\n",
    "print(d['Dict2']['Name'])"
   ]
  },
  {
   "cell_type": "code",
   "execution_count": 66,
   "id": "d591ef05-b2a4-466d-92d8-2977dc047639",
   "metadata": {},
   "outputs": [
    {
     "name": "stdout",
     "output_type": "stream",
     "text": [
      "{}\n"
     ]
    }
   ],
   "source": [
    "d1 = {1: \"msdhoni\", 2: \"sonunigam\", 3: \"srk\", 4: \"advait\"}\n",
    "\n",
    "d1.clear()\n",
    "print(d1)"
   ]
  },
  {
   "cell_type": "code",
   "execution_count": null,
   "id": "1136e4ea-9162-4486-bcba-62fcfe14c0c3",
   "metadata": {},
   "outputs": [],
   "source": []
  }
 ],
 "metadata": {
  "kernelspec": {
   "display_name": "Python 3 (ipykernel)",
   "language": "python",
   "name": "python3"
  },
  "language_info": {
   "codemirror_mode": {
    "name": "ipython",
    "version": 3
   },
   "file_extension": ".py",
   "mimetype": "text/x-python",
   "name": "python",
   "nbconvert_exporter": "python",
   "pygments_lexer": "ipython3",
   "version": "3.12.4"
  }
 },
 "nbformat": 4,
 "nbformat_minor": 5
}
