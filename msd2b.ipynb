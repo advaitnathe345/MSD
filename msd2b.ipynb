{
 "cells": [
  {
   "cell_type": "code",
   "execution_count": 12,
   "id": "0f001997-fa15-4acf-b246-d98d15008c6f",
   "metadata": {},
   "outputs": [
    {
     "name": "stdout",
     "output_type": "stream",
     "text": [
      "Requirement already satisfied: beautifulsoup4 in c:\\users\\advait nathe\\anaconda3\\lib\\site-packages (4.12.3)\n",
      "Requirement already satisfied: soupsieve>1.2 in c:\\users\\advait nathe\\anaconda3\\lib\\site-packages (from beautifulsoup4) (2.5)\n"
     ]
    }
   ],
   "source": [
    "!pip install beautifulsoup4"
   ]
  },
  {
   "cell_type": "code",
   "execution_count": 13,
   "id": "33ad6bd6-8b01-488f-9b79-cc07c282d25f",
   "metadata": {},
   "outputs": [
    {
     "name": "stdout",
     "output_type": "stream",
     "text": [
      "Name: beautifulsoup4Note: you may need to restart the kernel to use updated packages.\n",
      "\n",
      "Version: 4.12.3\n",
      "Summary: Screen-scraping library\n",
      "Home-page: \n",
      "Author: \n",
      "Author-email: Leonard Richardson <leonardr@segfault.org>\n",
      "License: MIT License\n",
      "Location: C:\\Users\\ADVAIT NATHE\\anaconda3\\Lib\\site-packages\n",
      "Requires: soupsieve\n",
      "Required-by: conda-build, nbconvert\n"
     ]
    }
   ],
   "source": [
    "pip show beautifulsoup4"
   ]
  },
  {
   "cell_type": "code",
   "execution_count": 14,
   "id": "263a7d1e-fe27-490e-b804-e0d02ffe5077",
   "metadata": {},
   "outputs": [],
   "source": [
    "import requests\n",
    "from bs4 import BeautifulSoup\n",
    "import pandas as pd"
   ]
  },
  {
   "cell_type": "code",
   "execution_count": 15,
   "id": "37ce7576-3c6f-4dfb-9faf-6cd6f5213415",
   "metadata": {},
   "outputs": [
    {
     "name": "stdout",
     "output_type": "stream",
     "text": [
      "<Response [200]>\n"
     ]
    }
   ],
   "source": [
    "url=\"https://en.wikipedia.org/wiki/World_population\"\n",
    "response=requests.get(url)\n",
    "soup=BeautifulSoup(response.content,\"html.parser\")\n",
    "print(response)"
   ]
  },
  {
   "cell_type": "code",
   "execution_count": 16,
   "id": "4166836b-5b06-48fa-b229-d7122cbc973d",
   "metadata": {},
   "outputs": [
    {
     "data": {
      "text/plain": [
       "<title>World population - Wikipedia</title>"
      ]
     },
     "execution_count": 16,
     "metadata": {},
     "output_type": "execute_result"
    }
   ],
   "source": [
    "soup.title"
   ]
  },
  {
   "cell_type": "code",
   "execution_count": 17,
   "id": "d7827d21-55cf-49c6-a6e9-a17204272725",
   "metadata": {},
   "outputs": [
    {
     "data": {
      "text/plain": [
       "'World population - Wikipedia'"
      ]
     },
     "execution_count": 17,
     "metadata": {},
     "output_type": "execute_result"
    }
   ],
   "source": [
    "soup.title.text"
   ]
  },
  {
   "cell_type": "code",
   "execution_count": 30,
   "id": "07b135f0-19ad-43a8-acda-697c8c6c3bc4",
   "metadata": {},
   "outputs": [
    {
     "data": {
      "text/html": [
       "<div>\n",
       "<style scoped>\n",
       "    .dataframe tbody tr th:only-of-type {\n",
       "        vertical-align: middle;\n",
       "    }\n",
       "\n",
       "    .dataframe tbody tr th {\n",
       "        vertical-align: top;\n",
       "    }\n",
       "\n",
       "    .dataframe thead th {\n",
       "        text-align: right;\n",
       "    }\n",
       "</style>\n",
       "<table border=\"1\" class=\"dataframe\">\n",
       "  <thead>\n",
       "    <tr style=\"text-align: right;\">\n",
       "      <th></th>\n",
       "      <th>0</th>\n",
       "      <th>1</th>\n",
       "      <th>2</th>\n",
       "      <th>3</th>\n",
       "    </tr>\n",
       "  </thead>\n",
       "  <tbody>\n",
       "    <tr>\n",
       "      <th>0</th>\n",
       "      <td>Sub-Saharan Africa</td>\n",
       "      <td>1,152 (14.51%)</td>\n",
       "      <td>1,401 (16.46%)</td>\n",
       "      <td>2,094 (21.62%)</td>\n",
       "    </tr>\n",
       "    <tr>\n",
       "      <th>1</th>\n",
       "      <td>Northern Africa and Western Asia</td>\n",
       "      <td>549 (6.91%)</td>\n",
       "      <td>617 (7.25%)</td>\n",
       "      <td>771 (7.96%)</td>\n",
       "    </tr>\n",
       "    <tr>\n",
       "      <th>2</th>\n",
       "      <td>Central Asia and Southern Asia</td>\n",
       "      <td>2,075 (26.13%)</td>\n",
       "      <td>2,248 (26.41%)</td>\n",
       "      <td>2,575 (26.58%)</td>\n",
       "    </tr>\n",
       "    <tr>\n",
       "      <th>3</th>\n",
       "      <td>Eastern Asia and Southeastern Asia</td>\n",
       "      <td>2,342 (29.49%)</td>\n",
       "      <td>2,372 (27.87%)</td>\n",
       "      <td>2,317 (23.92%)</td>\n",
       "    </tr>\n",
       "    <tr>\n",
       "      <th>4</th>\n",
       "      <td>Europe and Northern America</td>\n",
       "      <td>1,120 (14.10%)</td>\n",
       "      <td>1,129 (13.26%)</td>\n",
       "      <td>1,125 (11.61%)</td>\n",
       "    </tr>\n",
       "    <tr>\n",
       "      <th>5</th>\n",
       "      <td>Latin America and the Caribbean</td>\n",
       "      <td>658 (8.29%)</td>\n",
       "      <td>695 (8.17%)</td>\n",
       "      <td>749 (7.73%)</td>\n",
       "    </tr>\n",
       "    <tr>\n",
       "      <th>6</th>\n",
       "      <td>Australia and New Zealand</td>\n",
       "      <td>31 (0.39%)</td>\n",
       "      <td>34 (0.40%)</td>\n",
       "      <td>38 (0.39%)</td>\n",
       "    </tr>\n",
       "    <tr>\n",
       "      <th>7</th>\n",
       "      <td>Oceania</td>\n",
       "      <td>14 (0.18%)</td>\n",
       "      <td>15 (0.18%)</td>\n",
       "      <td>20 (0.21%)</td>\n",
       "    </tr>\n",
       "    <tr>\n",
       "      <th>8</th>\n",
       "      <td>World</td>\n",
       "      <td>7,942</td>\n",
       "      <td>8,512</td>\n",
       "      <td>9,687</td>\n",
       "    </tr>\n",
       "  </tbody>\n",
       "</table>\n",
       "</div>"
      ],
      "text/plain": [
       "                                    0               1               2  \\\n",
       "0                  Sub-Saharan Africa  1,152 (14.51%)  1,401 (16.46%)   \n",
       "1    Northern Africa and Western Asia     549 (6.91%)     617 (7.25%)   \n",
       "2      Central Asia and Southern Asia  2,075 (26.13%)  2,248 (26.41%)   \n",
       "3  Eastern Asia and Southeastern Asia  2,342 (29.49%)  2,372 (27.87%)   \n",
       "4         Europe and Northern America  1,120 (14.10%)  1,129 (13.26%)   \n",
       "5     Latin America and the Caribbean     658 (8.29%)     695 (8.17%)   \n",
       "6           Australia and New Zealand      31 (0.39%)      34 (0.40%)   \n",
       "7                             Oceania      14 (0.18%)      15 (0.18%)   \n",
       "8                               World           7,942           8,512   \n",
       "\n",
       "                3  \n",
       "0  2,094 (21.62%)  \n",
       "1     771 (7.96%)  \n",
       "2  2,575 (26.58%)  \n",
       "3  2,317 (23.92%)  \n",
       "4  1,125 (11.61%)  \n",
       "5     749 (7.73%)  \n",
       "6      38 (0.39%)  \n",
       "7      20 (0.21%)  \n",
       "8           9,687  "
      ]
     },
     "execution_count": 30,
     "metadata": {},
     "output_type": "execute_result"
    }
   ],
   "source": [
    "tables=soup.find_all('table')\n",
    "dataframe1=[]\n",
    "\n",
    "for i, table in enumerate (tables):\n",
    "    rows=table.find_all('tr')[1:]\n",
    "    data=[]\n",
    "    for row in rows:\n",
    "        cols=row.find_all('td')\n",
    "        cols=[col.text.strip() for col in cols]\n",
    "        data.append(cols)\n",
    "        \n",
    "    df=pd.DataFrame(data)\n",
    "    dataframe1.append(df)\n",
    "\n",
    "dataframe1[2]"
   ]
  },
  {
   "cell_type": "code",
   "execution_count": null,
   "id": "106cfcaf-bd46-4323-9d8a-970944bd9088",
   "metadata": {},
   "outputs": [],
   "source": []
  }
 ],
 "metadata": {
  "kernelspec": {
   "display_name": "Python 3 (ipykernel)",
   "language": "python",
   "name": "python3"
  },
  "language_info": {
   "codemirror_mode": {
    "name": "ipython",
    "version": 3
   },
   "file_extension": ".py",
   "mimetype": "text/x-python",
   "name": "python",
   "nbconvert_exporter": "python",
   "pygments_lexer": "ipython3",
   "version": "3.12.4"
  }
 },
 "nbformat": 4,
 "nbformat_minor": 5
}
